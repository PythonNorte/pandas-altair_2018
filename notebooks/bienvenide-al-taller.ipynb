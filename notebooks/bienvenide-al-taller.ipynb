{
 "cells": [
  {
   "cell_type": "code",
   "execution_count": null,
   "metadata": {},
   "outputs": [],
   "source": [
    "import pandas as pd\n",
    "import altair as alt\n",
    "\n",
    "# Los gráficos de Altair se renderizan por defecto en JupyterLab y nteract\n",
    "\n",
    "# Descomentá y ejecutá esta línea si estás trabajando en un Notebook clásico (no en JupyterLab)\n",
    "# alt.renderers.enable('notebook')\n",
    "\n",
    "# Descomentá y ejecutá esta línea si estás trabajando en Google Colab\n",
    "# alt.renderers.enable('colab')"
   ]
  },
  {
   "cell_type": "code",
   "execution_count": null,
   "metadata": {},
   "outputs": [],
   "source": [
    "path = '../datasets/datos_testeo.csv'\n",
    "\n",
    "# Si estás en Colab descomenta la siguiente linea:\n",
    "# path = 'https://raw.githubusercontent.com/akielbowicz/pandas-altair_2018/master/datasets/datos_testeo.csv'\n",
    "\n",
    "df = pd.read_csv()\n",
    "alt.Chart(df).mark_circle(size=15).encode(x='x',y='y')"
   ]
  }
 ],
 "metadata": {
  "kernelspec": {
   "display_name": "Python 3",
   "language": "python",
   "name": "python3"
  },
  "language_info": {
   "codemirror_mode": {
    "name": "ipython",
    "version": 3
   },
   "file_extension": ".py",
   "mimetype": "text/x-python",
   "name": "python",
   "nbconvert_exporter": "python",
   "pygments_lexer": "ipython3",
   "version": "3.7.1"
  }
 },
 "nbformat": 4,
 "nbformat_minor": 2
}
