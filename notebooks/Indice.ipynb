{
 "cells": [
  {
   "cell_type": "markdown",
   "metadata": {},
   "source": [
    "# Basta de loops, hagamos exploración de datos con Pandas y Altair.\n",
    "\n",
    "### Contenido del taller en: https://github.com/akielbowicz/pandas-altair_2018"
   ]
  },
  {
   "cell_type": "markdown",
   "metadata": {},
   "source": [
    "## Programa\n",
    "\n",
    "### Bienvenide al taller\n",
    "\n",
    "Aún faltan un par de días para el taller, pero siempre hay quienes estamos ansioses y queremos empezar a hacer cosas.\n",
    "\n",
    "Si ya estás acostumbrade a utilizar Jupyter, buenisimo. Si no, te recomiendo que explores y rompas un par de cosas.  \n",
    "\n",
    "Para verificar que tu ambiente está funcionando bien, abrí el siguiente notebook y ejecutá su contenido.\n",
    "( `Shift + Enter` )\n",
    "- [bienvenide-al-taller.ipynb](bienvenide-al-taller.ipynb)"
   ]
  }
 ],
 "metadata": {
  "kernelspec": {
   "display_name": "Python 3",
   "language": "python",
   "name": "python3"
  },
  "language_info": {
   "codemirror_mode": {
    "name": "ipython",
    "version": 3
   },
   "file_extension": ".py",
   "mimetype": "text/x-python",
   "name": "python",
   "nbconvert_exporter": "python",
   "pygments_lexer": "ipython3",
   "version": "3.7.1"
  }
 },
 "nbformat": 4,
 "nbformat_minor": 2
}
